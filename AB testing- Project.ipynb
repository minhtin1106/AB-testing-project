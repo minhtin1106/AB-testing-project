{
 "cells": [
  {
   "cell_type": "code",
   "execution_count": 38,
   "id": "10d0e787",
   "metadata": {},
   "outputs": [
    {
     "ename": "NameError",
     "evalue": "name 'Overview' is not defined",
     "output_type": "error",
     "traceback": [
      "\u001b[1;31m---------------------------------------------------------------------------\u001b[0m",
      "\u001b[1;31mNameError\u001b[0m                                 Traceback (most recent call last)",
      "\u001b[1;32m~\\AppData\\Local\\Temp/ipykernel_9604/2295009275.py\u001b[0m in \u001b[0;36m<module>\u001b[1;34m\u001b[0m\n\u001b[1;32m----> 1\u001b[1;33m \u001b[0mOverview\u001b[0m\u001b[1;33m\u001b[0m\u001b[1;33m\u001b[0m\u001b[0m\n\u001b[0m",
      "\u001b[1;31mNameError\u001b[0m: name 'Overview' is not defined"
     ]
    }
   ],
   "source": [
    "Overview"
   ]
  },
  {
   "cell_type": "code",
   "execution_count": 5,
   "id": "a5e681a6",
   "metadata": {},
   "outputs": [],
   "source": [
    "import pandas as pd\n",
    "import numpy as np\n",
    "import os\n",
    "import re\n",
    "import kaggle\n",
    "import matplotlib.pyplot as plt\n",
    "import seaborn as sns\n",
    "import scipy.stats as stats\n",
    "import statsmodels.stats.api as sms\n",
    "import zipfile\n",
    "import datetime as dt\n",
    "\n",
    "from math import ceil\n",
    "from matplotlib.ticker import FuncFormatter\n",
    "from statsmodels.stats.proportion import proportions_ztest, proportion_confint\n"
   ]
  },
  {
   "cell_type": "code",
   "execution_count": 26,
   "id": "2409c180",
   "metadata": {},
   "outputs": [],
   "source": [
    "# Set up the speficiations for visualization\n",
    "sns.set_style('whitegrid')\n",
    "sns.set_context(rc={\n",
    "    'axes.titlesize': 19,\n",
    "    'axes.labelsize':15,\n",
    "    'xtick.labelsize':13,\n",
    "    'ytick.labelsize':13\n",
    "})"
   ]
  },
  {
   "cell_type": "code",
   "execution_count": 8,
   "id": "18c1ed8e",
   "metadata": {},
   "outputs": [],
   "source": [
    "# Set up the float representation\n",
    "pd.options.display.float_format='{:,.4f}'.format"
   ]
  },
  {
   "cell_type": "markdown",
   "id": "e17c07bc",
   "metadata": {},
   "source": [
    "## 1 Problem definition"
   ]
  },
  {
   "cell_type": "markdown",
   "id": "bd123865",
   "metadata": {},
   "source": [
    "### What problem we are dealing with?"
   ]
  },
  {
   "cell_type": "markdown",
   "id": "8114183b",
   "metadata": {},
   "source": [
    "Let's say:<br> \n",
    "We are in a product team at a medium-sized online e-commerce business. The UX designer has just created the product page, with the aim to gain a higher percentage of visitors make a conversion.<br>\n",
    "+ The current conversion rate is about 13% on average throughout the year \n",
    "+ An increase of 2% would be considered a success if it raises the __conversion rate to 15%__."
   ]
  },
  {
   "cell_type": "markdown",
   "id": "b17516b0",
   "metadata": {},
   "source": [
    "Before rolling out the change, we would like to run an A/B test it on a small number of users to see how the product page performs to see whether it leads to  higher conversion rate."
   ]
  },
  {
   "cell_type": "markdown",
   "id": "f8c40423",
   "metadata": {},
   "source": [
    "### Why does that matter? "
   ]
  },
  {
   "cell_type": "markdown",
   "id": "fec2d617",
   "metadata": {},
   "source": [
    "For any profit driven businesses, we try to maximize the profits by increasing revenues or reducing costs or by combining both.<br>\n",
    "Higher conversion rate means that we successfully convert more visitors to our customers => more revenues for the business \n"
   ]
  },
  {
   "cell_type": "markdown",
   "id": "90db16ae",
   "metadata": {},
   "source": [
    "## 2 Design the experiment"
   ]
  },
  {
   "cell_type": "markdown",
   "id": "f2eeab60",
   "metadata": {},
   "source": [
    "### Step 1 Identify the key performance indicators being of business's interest?"
   ]
  },
  {
   "cell_type": "markdown",
   "id": "b2385f54",
   "metadata": {},
   "source": [
    "The metric of interest in this context is the conversion rate which is computed as follows:<br>  $ConversionRate =\\frac{totalNumberConversions}{totalNumberVisitors}$\n",
    "\n",
    "The metric is measurable since we could track both the numerator and the denominator(e.g: Google Analytics could provide with that information)"
   ]
  },
  {
   "cell_type": "markdown",
   "id": "56212233",
   "metadata": {},
   "source": [
    "### Step 2 Fomulate the null and the alternative hypothesis"
   ]
  },
  {
   "cell_type": "markdown",
   "id": "1a0ff91c",
   "metadata": {},
   "source": [
    "We'll need two groups:\n",
    ">+ A control group - They'll be shown the old design\n",
    ">+ A treatment (or experimental) group - They'll be shown the new design<br>\n",
    "\n",
    "+ __Null hypotheis H0__: There is no difference in the conversion rate betwwen old design and new design (i.e: p_exp-p_con=0)\n",
    "+ __Alternative hypothesis H1__: The new design leads to higher conversion rate (i.e: p_exp-p_con>0)(i.e: That only when the new design outperforms matters to us)\n",
    "\n",
    "=> Given the input, the one-tailed t-test seems to be a proper one."
   ]
  },
  {
   "cell_type": "markdown",
   "id": "0eb874b4",
   "metadata": {},
   "source": [
    "### Step 3 Decide on the significant level, statistical power and practical significant level"
   ]
  },
  {
   "cell_type": "markdown",
   "id": "895ffa05",
   "metadata": {},
   "source": [
    "Let's say we set:<br>\n",
    "+ __Significant level $\\alpha$__: .05\n",
    "+ __Practical significant level__: As said in the intro, only the outperformance of at least 2% would be of our interest.\n",
    "+ __Statistical power ($1- \\beta$)__:  This represents the probability of spotting a statistical difference between the groups in our test when a difference is present. This is usually set at 0.8 as a convention"
   ]
  },
  {
   "cell_type": "markdown",
   "id": "c66cd63c",
   "metadata": {},
   "source": [
    "### Step 4 Calculate sample size"
   ]
  },
  {
   "cell_type": "markdown",
   "id": "ab18ff4d",
   "metadata": {},
   "source": [
    "__n= $\\frac{2\\bar{p}(1-\\bar{p})(Z_{1-\\beta} +Z_{\\alpha/2})^{2}}{mde^{2}}$__<br>\n",
    "\n",
    "where \n",
    "+ $\\bar{p}$ in this context is the baseline conversion rate<br>\n",
    "+ $Z_{1-\\beta}$ is the Z-score of statistical power\n",
    "+ $Z_{\\alpha/2}$ is the Z-score of $\\alpha/2$\n",
    "+ mde is the minimum detectable effect which indicates the minimum level of effect size that our test could spot if there exists such difference \n",
    "\n",
    "https://dimewiki.worldbank.org/Power_Calculations\n"
   ]
  },
  {
   "cell_type": "code",
   "execution_count": 22,
   "id": "e46b2b88",
   "metadata": {},
   "outputs": [],
   "source": [
    "def min_sample_size(bcr, mde,power=.8, alpha=.05):\n",
    "    \"\"\"\n",
    "    Fuction is used to identify the sample size needed \n",
    "    Functions requires  2 manadatory parameters:\n",
    "    + bcr which is the baseline conversion rate\n",
    "    + mde which is the minimum detectable effect\n",
    "    It returns minimum sample size in float\n",
    "    \"\"\"\n",
    "    #Create the standard normal distribution object\n",
    "    standard_normal= stats.norm(0,1)\n",
    "    \n",
    "    #Compute Z_stat_power\n",
    "    Z_beta= standard_normal.ppf(power)\n",
    "    \n",
    "    #Compute Z_alpha\n",
    "    Z_alpha= standard_normal.ppf(1-(alpha/2))\n",
    "    \n",
    "    # average of probabilities from both groups\n",
    "    pooled_prob= (bcr+bcr+mde)/2\n",
    "    \n",
    "    min_N= (2*pooled_prob*(1-pooled_prob)*(Z_beta+Z_alpha)**2\n",
    "            /mde**2)\n",
    "    \n",
    "    return min_N"
   ]
  },
  {
   "cell_type": "code",
   "execution_count": 23,
   "id": "e82a51ec",
   "metadata": {},
   "outputs": [
    {
     "name": "stdout",
     "output_type": "stream",
     "text": [
      "The sample size needed for this experiment is 4,725.03\n"
     ]
    }
   ],
   "source": [
    "required_n=min_sample_size(.13,.02)\n",
    "print('The sample size needed for this experiment is {:,.2f}'.format(required_n))"
   ]
  },
  {
   "cell_type": "markdown",
   "id": "db3589a4",
   "metadata": {},
   "source": [
    "## 3 Conduct the experiment"
   ]
  },
  {
   "cell_type": "markdown",
   "id": "7f4f6ebe",
   "metadata": {},
   "source": [
    "Usually, at this point, we would need to collect the data.by working with our team to set up the experiment and running it.<br>\n",
    "However, since we'll use a dataset that we found online, in order to simulate this situation we'll:<br>\n",
    "+ Fetch the dataset from Kaggle\n",
    "+ Read the data into a pandas DataFrame\n",
    "+ Conduct EDA\n",
    "+ Randomly sample n=4726 rows from the DataFrame for each group"
   ]
  },
  {
   "cell_type": "code",
   "execution_count": 1,
   "id": "e80c4f37",
   "metadata": {},
   "outputs": [
    {
     "name": "stdout",
     "output_type": "stream",
     "text": [
      "ab-testing.zip: Skipping, found more recently modified local copy (use --force to force download)\n"
     ]
    }
   ],
   "source": [
    "# Use Kaggle API to fetch the data needed\n",
    "!kaggle datasets download -d zhangluyuan/ab-testing "
   ]
  },
  {
   "cell_type": "code",
   "execution_count": 29,
   "id": "5b31d1fd",
   "metadata": {},
   "outputs": [],
   "source": [
    "# Unzip data file to targetdir folder\n",
    "with zipfile.ZipFile('ab-testing.zip','r') as zip_ref:\n",
    "    zip_ref.extractall('targetdir')"
   ]
  },
  {
   "cell_type": "code",
   "execution_count": 4,
   "id": "9fdcbd02",
   "metadata": {},
   "outputs": [],
   "source": [
    "path='/targetdir'"
   ]
  },
  {
   "cell_type": "code",
   "execution_count": 6,
   "id": "51504347",
   "metadata": {},
   "outputs": [],
   "source": [
    "# Load the dataset\n",
    "full_data= pd.read_csv(os.getcwd()+path+'/'+'ab_data.csv')"
   ]
  },
  {
   "cell_type": "markdown",
   "id": "70c68787",
   "metadata": {},
   "source": [
    "### a/ Exploratory data analysis"
   ]
  },
  {
   "cell_type": "markdown",
   "id": "7da5455b",
   "metadata": {},
   "source": [
    "#### Data quality assessment"
   ]
  },
  {
   "cell_type": "code",
   "execution_count": 16,
   "id": "59d7258f",
   "metadata": {},
   "outputs": [
    {
     "name": "stdout",
     "output_type": "stream",
     "text": [
      "<class 'pandas.core.frame.DataFrame'>\n",
      "RangeIndex: 294478 entries, 0 to 294477\n",
      "Data columns (total 5 columns):\n",
      " #   Column        Non-Null Count   Dtype \n",
      "---  ------        --------------   ----- \n",
      " 0   user_id       294478 non-null  int64 \n",
      " 1   timestamp     294478 non-null  object\n",
      " 2   group         294478 non-null  object\n",
      " 3   landing_page  294478 non-null  object\n",
      " 4   converted     294478 non-null  int64 \n",
      "dtypes: int64(2), object(3)\n",
      "memory usage: 11.2+ MB\n"
     ]
    }
   ],
   "source": [
    "full_data.info()"
   ]
  },
  {
   "cell_type": "markdown",
   "id": "a676731a",
   "metadata": {},
   "source": [
    "__Generally__:<br>\n",
    "+ The dataset has around 300,000 observations and 5 columns\n",
    "+ The data types for all columns seem to be appropriate except the one in timestamp column. datetime type would be prefered\n",
    "+ We could also consider optimizing the memory usage by converting object dtype to categorical type for discrete columns like group and landing_page"
   ]
  },
  {
   "cell_type": "code",
   "execution_count": 17,
   "id": "ac48c56e",
   "metadata": {},
   "outputs": [
    {
     "data": {
      "text/html": [
       "<div>\n",
       "<style scoped>\n",
       "    .dataframe tbody tr th:only-of-type {\n",
       "        vertical-align: middle;\n",
       "    }\n",
       "\n",
       "    .dataframe tbody tr th {\n",
       "        vertical-align: top;\n",
       "    }\n",
       "\n",
       "    .dataframe thead th {\n",
       "        text-align: right;\n",
       "    }\n",
       "</style>\n",
       "<table border=\"1\" class=\"dataframe\">\n",
       "  <thead>\n",
       "    <tr style=\"text-align: right;\">\n",
       "      <th></th>\n",
       "      <th>user_id</th>\n",
       "      <th>timestamp</th>\n",
       "      <th>group</th>\n",
       "      <th>landing_page</th>\n",
       "      <th>converted</th>\n",
       "    </tr>\n",
       "  </thead>\n",
       "  <tbody>\n",
       "    <tr>\n",
       "      <th>0</th>\n",
       "      <td>851104</td>\n",
       "      <td>2017-01-21 22:11:48.556739</td>\n",
       "      <td>control</td>\n",
       "      <td>old_page</td>\n",
       "      <td>0</td>\n",
       "    </tr>\n",
       "    <tr>\n",
       "      <th>1</th>\n",
       "      <td>804228</td>\n",
       "      <td>2017-01-12 08:01:45.159739</td>\n",
       "      <td>control</td>\n",
       "      <td>old_page</td>\n",
       "      <td>0</td>\n",
       "    </tr>\n",
       "    <tr>\n",
       "      <th>2</th>\n",
       "      <td>661590</td>\n",
       "      <td>2017-01-11 16:55:06.154213</td>\n",
       "      <td>treatment</td>\n",
       "      <td>new_page</td>\n",
       "      <td>0</td>\n",
       "    </tr>\n",
       "    <tr>\n",
       "      <th>3</th>\n",
       "      <td>853541</td>\n",
       "      <td>2017-01-08 18:28:03.143765</td>\n",
       "      <td>treatment</td>\n",
       "      <td>new_page</td>\n",
       "      <td>0</td>\n",
       "    </tr>\n",
       "    <tr>\n",
       "      <th>4</th>\n",
       "      <td>864975</td>\n",
       "      <td>2017-01-21 01:52:26.210827</td>\n",
       "      <td>control</td>\n",
       "      <td>old_page</td>\n",
       "      <td>1</td>\n",
       "    </tr>\n",
       "  </tbody>\n",
       "</table>\n",
       "</div>"
      ],
      "text/plain": [
       "   user_id                   timestamp      group landing_page  converted\n",
       "0   851104  2017-01-21 22:11:48.556739    control     old_page          0\n",
       "1   804228  2017-01-12 08:01:45.159739    control     old_page          0\n",
       "2   661590  2017-01-11 16:55:06.154213  treatment     new_page          0\n",
       "3   853541  2017-01-08 18:28:03.143765  treatment     new_page          0\n",
       "4   864975  2017-01-21 01:52:26.210827    control     old_page          1"
      ]
     },
     "execution_count": 17,
     "metadata": {},
     "output_type": "execute_result"
    }
   ],
   "source": [
    "# Top 5 rows\n",
    "full_data.head()"
   ]
  },
  {
   "cell_type": "markdown",
   "id": "5ce3c1a3",
   "metadata": {},
   "source": [
    "#### Data cleaning \n",
    "(duplication, missingness, inappropriate data types)"
   ]
  },
  {
   "cell_type": "code",
   "execution_count": 7,
   "id": "1b704bfd",
   "metadata": {},
   "outputs": [
    {
     "name": "stdout",
     "output_type": "stream",
     "text": [
      "There are 3894 users appearing multiple times in the dataset\n"
     ]
    }
   ],
   "source": [
    "# Duplication\n",
    "print('There are {} users appearing multiple times in the dataset'.format(full_data['user_id'].duplicated().sum(axis=0)))"
   ]
  },
  {
   "cell_type": "code",
   "execution_count": 14,
   "id": "e3b13f1e",
   "metadata": {},
   "outputs": [],
   "source": [
    "# Keep only the first observation for each user_id given ascendingly sorted timestamp value \n",
    "distinct_data= full_data.sort_values('timestamp').drop_duplicates('user_id')"
   ]
  },
  {
   "cell_type": "code",
   "execution_count": 20,
   "id": "fc252947",
   "metadata": {},
   "outputs": [
    {
     "data": {
      "text/html": [
       "<div>\n",
       "<style scoped>\n",
       "    .dataframe tbody tr th:only-of-type {\n",
       "        vertical-align: middle;\n",
       "    }\n",
       "\n",
       "    .dataframe tbody tr th {\n",
       "        vertical-align: top;\n",
       "    }\n",
       "\n",
       "    .dataframe thead th {\n",
       "        text-align: right;\n",
       "    }\n",
       "</style>\n",
       "<table border=\"1\" class=\"dataframe\">\n",
       "  <thead>\n",
       "    <tr style=\"text-align: right;\">\n",
       "      <th></th>\n",
       "      <th>user_id</th>\n",
       "      <th>timestamp</th>\n",
       "      <th>group</th>\n",
       "      <th>landing_page</th>\n",
       "      <th>converted</th>\n",
       "    </tr>\n",
       "  </thead>\n",
       "  <tbody>\n",
       "    <tr>\n",
       "      <th>131228</th>\n",
       "      <td>922696</td>\n",
       "      <td>2017-01-02 13:42:05.378582</td>\n",
       "      <td>treatment</td>\n",
       "      <td>new_page</td>\n",
       "      <td>0</td>\n",
       "    </tr>\n",
       "    <tr>\n",
       "      <th>184884</th>\n",
       "      <td>781507</td>\n",
       "      <td>2017-01-02 13:42:15.234051</td>\n",
       "      <td>control</td>\n",
       "      <td>old_page</td>\n",
       "      <td>0</td>\n",
       "    </tr>\n",
       "    <tr>\n",
       "      <th>83878</th>\n",
       "      <td>737319</td>\n",
       "      <td>2017-01-02 13:42:21.786186</td>\n",
       "      <td>control</td>\n",
       "      <td>old_page</td>\n",
       "      <td>0</td>\n",
       "    </tr>\n",
       "    <tr>\n",
       "      <th>102717</th>\n",
       "      <td>818377</td>\n",
       "      <td>2017-01-02 13:42:26.640581</td>\n",
       "      <td>treatment</td>\n",
       "      <td>new_page</td>\n",
       "      <td>0</td>\n",
       "    </tr>\n",
       "    <tr>\n",
       "      <th>158789</th>\n",
       "      <td>725857</td>\n",
       "      <td>2017-01-02 13:42:27.851110</td>\n",
       "      <td>treatment</td>\n",
       "      <td>new_page</td>\n",
       "      <td>0</td>\n",
       "    </tr>\n",
       "    <tr>\n",
       "      <th>...</th>\n",
       "      <td>...</td>\n",
       "      <td>...</td>\n",
       "      <td>...</td>\n",
       "      <td>...</td>\n",
       "      <td>...</td>\n",
       "    </tr>\n",
       "    <tr>\n",
       "      <th>158814</th>\n",
       "      <td>799244</td>\n",
       "      <td>2017-01-24 13:41:15.325359</td>\n",
       "      <td>treatment</td>\n",
       "      <td>new_page</td>\n",
       "      <td>0</td>\n",
       "    </tr>\n",
       "    <tr>\n",
       "      <th>47535</th>\n",
       "      <td>808330</td>\n",
       "      <td>2017-01-24 13:41:19.152664</td>\n",
       "      <td>control</td>\n",
       "      <td>old_page</td>\n",
       "      <td>0</td>\n",
       "    </tr>\n",
       "    <tr>\n",
       "      <th>157787</th>\n",
       "      <td>843121</td>\n",
       "      <td>2017-01-24 13:41:44.097174</td>\n",
       "      <td>treatment</td>\n",
       "      <td>new_page</td>\n",
       "      <td>0</td>\n",
       "    </tr>\n",
       "    <tr>\n",
       "      <th>179072</th>\n",
       "      <td>836373</td>\n",
       "      <td>2017-01-24 13:41:52.604673</td>\n",
       "      <td>control</td>\n",
       "      <td>old_page</td>\n",
       "      <td>0</td>\n",
       "    </tr>\n",
       "    <tr>\n",
       "      <th>193652</th>\n",
       "      <td>920411</td>\n",
       "      <td>2017-01-24 13:41:54.460509</td>\n",
       "      <td>control</td>\n",
       "      <td>old_page</td>\n",
       "      <td>0</td>\n",
       "    </tr>\n",
       "  </tbody>\n",
       "</table>\n",
       "<p>290584 rows × 5 columns</p>\n",
       "</div>"
      ],
      "text/plain": [
       "        user_id                   timestamp      group landing_page  converted\n",
       "131228   922696  2017-01-02 13:42:05.378582  treatment     new_page          0\n",
       "184884   781507  2017-01-02 13:42:15.234051    control     old_page          0\n",
       "83878    737319  2017-01-02 13:42:21.786186    control     old_page          0\n",
       "102717   818377  2017-01-02 13:42:26.640581  treatment     new_page          0\n",
       "158789   725857  2017-01-02 13:42:27.851110  treatment     new_page          0\n",
       "...         ...                         ...        ...          ...        ...\n",
       "158814   799244  2017-01-24 13:41:15.325359  treatment     new_page          0\n",
       "47535    808330  2017-01-24 13:41:19.152664    control     old_page          0\n",
       "157787   843121  2017-01-24 13:41:44.097174  treatment     new_page          0\n",
       "179072   836373  2017-01-24 13:41:52.604673    control     old_page          0\n",
       "193652   920411  2017-01-24 13:41:54.460509    control     old_page          0\n",
       "\n",
       "[290584 rows x 5 columns]"
      ]
     },
     "execution_count": 20,
     "metadata": {},
     "output_type": "execute_result"
    }
   ],
   "source": [
    "distinct_data"
   ]
  },
  {
   "cell_type": "code",
   "execution_count": 15,
   "id": "567e20df",
   "metadata": {},
   "outputs": [
    {
     "data": {
      "text/html": [
       "<div>\n",
       "<style scoped>\n",
       "    .dataframe tbody tr th:only-of-type {\n",
       "        vertical-align: middle;\n",
       "    }\n",
       "\n",
       "    .dataframe tbody tr th {\n",
       "        vertical-align: top;\n",
       "    }\n",
       "\n",
       "    .dataframe thead th {\n",
       "        text-align: right;\n",
       "    }\n",
       "</style>\n",
       "<table border=\"1\" class=\"dataframe\">\n",
       "  <thead>\n",
       "    <tr style=\"text-align: right;\">\n",
       "      <th></th>\n",
       "      <th>Number of missing values</th>\n",
       "    </tr>\n",
       "  </thead>\n",
       "  <tbody>\n",
       "    <tr>\n",
       "      <th>user_id</th>\n",
       "      <td>0</td>\n",
       "    </tr>\n",
       "    <tr>\n",
       "      <th>timestamp</th>\n",
       "      <td>0</td>\n",
       "    </tr>\n",
       "    <tr>\n",
       "      <th>group</th>\n",
       "      <td>0</td>\n",
       "    </tr>\n",
       "    <tr>\n",
       "      <th>landing_page</th>\n",
       "      <td>0</td>\n",
       "    </tr>\n",
       "    <tr>\n",
       "      <th>converted</th>\n",
       "      <td>0</td>\n",
       "    </tr>\n",
       "  </tbody>\n",
       "</table>\n",
       "</div>"
      ],
      "text/plain": [
       "              Number of missing values\n",
       "user_id                              0\n",
       "timestamp                            0\n",
       "group                                0\n",
       "landing_page                         0\n",
       "converted                            0"
      ]
     },
     "execution_count": 15,
     "metadata": {},
     "output_type": "execute_result"
    }
   ],
   "source": [
    "# Missingness\n",
    "distinct_data.isnull().sum(axis=0).to_frame().rename({0:'Number of missing values'},axis=1)"
   ]
  },
  {
   "cell_type": "markdown",
   "id": "2326eb06",
   "metadata": {},
   "source": [
    "There is no missingness in the dataset"
   ]
  },
  {
   "cell_type": "code",
   "execution_count": 16,
   "id": "b087829e",
   "metadata": {},
   "outputs": [],
   "source": [
    "# Convert object type to categorical type, and datetimes for some suitable columns\n",
    "dist_data_conv=distinct_data.astype({'group':'category','landing_page':'category'})\n",
    "dist_data_conv['timestamp']=pd.to_datetime(dist_data_conv['timestamp'])"
   ]
  },
  {
   "cell_type": "code",
   "execution_count": 22,
   "id": "f52e2a29",
   "metadata": {},
   "outputs": [
    {
     "name": "stdout",
     "output_type": "stream",
     "text": [
      "<class 'pandas.core.frame.DataFrame'>\n",
      "Int64Index: 290584 entries, 131228 to 193652\n",
      "Data columns (total 5 columns):\n",
      " #   Column        Non-Null Count   Dtype         \n",
      "---  ------        --------------   -----         \n",
      " 0   user_id       290584 non-null  int64         \n",
      " 1   timestamp     290584 non-null  datetime64[ns]\n",
      " 2   group         290584 non-null  category      \n",
      " 3   landing_page  290584 non-null  category      \n",
      " 4   converted     290584 non-null  int64         \n",
      "dtypes: category(2), datetime64[ns](1), int64(2)\n",
      "memory usage: 9.4 MB\n"
     ]
    }
   ],
   "source": [
    "dist_data_conv.info()"
   ]
  },
  {
   "cell_type": "markdown",
   "id": "10612b2b",
   "metadata": {},
   "source": [
    "Notice that the memory usage has been reduced from 11.2+MB to 9.4 MB. This is just a minor improvement but the effect would be greater in case of having larger dataset"
   ]
  },
  {
   "cell_type": "code",
   "execution_count": 17,
   "id": "4208828e",
   "metadata": {},
   "outputs": [
    {
     "data": {
      "text/html": [
       "<div>\n",
       "<style scoped>\n",
       "    .dataframe tbody tr th:only-of-type {\n",
       "        vertical-align: middle;\n",
       "    }\n",
       "\n",
       "    .dataframe tbody tr th {\n",
       "        vertical-align: top;\n",
       "    }\n",
       "\n",
       "    .dataframe thead th {\n",
       "        text-align: right;\n",
       "    }\n",
       "</style>\n",
       "<table border=\"1\" class=\"dataframe\">\n",
       "  <thead>\n",
       "    <tr style=\"text-align: right;\">\n",
       "      <th>landing_page</th>\n",
       "      <th>new_page</th>\n",
       "      <th>old_page</th>\n",
       "    </tr>\n",
       "    <tr>\n",
       "      <th>group</th>\n",
       "      <th></th>\n",
       "      <th></th>\n",
       "    </tr>\n",
       "  </thead>\n",
       "  <tbody>\n",
       "    <tr>\n",
       "      <th>control</th>\n",
       "      <td>975</td>\n",
       "      <td>144319</td>\n",
       "    </tr>\n",
       "    <tr>\n",
       "      <th>treatment</th>\n",
       "      <td>144316</td>\n",
       "      <td>974</td>\n",
       "    </tr>\n",
       "  </tbody>\n",
       "</table>\n",
       "</div>"
      ],
      "text/plain": [
       "landing_page  new_page  old_page\n",
       "group                           \n",
       "control            975    144319\n",
       "treatment       144316       974"
      ]
     },
     "execution_count": 17,
     "metadata": {},
     "output_type": "execute_result"
    }
   ],
   "source": [
    "dist_data_conv.groupby(['group','landing_page'])['timestamp']\\\n",
    "              .agg('count')\\\n",
    "              .reset_index()\\\n",
    "              .pivot(index='group',\n",
    "                     columns='landing_page',\n",
    "                     values='timestamp')"
   ]
  },
  {
   "cell_type": "markdown",
   "id": "205a4925",
   "metadata": {},
   "source": [
    "To ensure all users in the control group are seeing the old page and viceversa, we remove any observations belonging to control group but seeing new_page and viceversa"
   ]
  },
  {
   "cell_type": "code",
   "execution_count": 18,
   "id": "deae9bec",
   "metadata": {},
   "outputs": [],
   "source": [
    "# Set the conditions to keep only the \"control and old page\" or \"treatment and new page\" rows\n",
    "c1= dist_data_conv['group']=='control'\n",
    "c2= dist_data_conv['landing_page']=='old_page'\n",
    "t1= dist_data_conv['group']=='treatment'\n",
    "t2= dist_data_conv['landing_page']=='new_page'\n",
    "\n",
    "right_group_page= dist_data_conv[(c1&c2) | (t1&t2)]"
   ]
  },
  {
   "cell_type": "code",
   "execution_count": 19,
   "id": "5f029952",
   "metadata": {},
   "outputs": [
    {
     "data": {
      "text/html": [
       "<div>\n",
       "<style scoped>\n",
       "    .dataframe tbody tr th:only-of-type {\n",
       "        vertical-align: middle;\n",
       "    }\n",
       "\n",
       "    .dataframe tbody tr th {\n",
       "        vertical-align: top;\n",
       "    }\n",
       "\n",
       "    .dataframe thead th {\n",
       "        text-align: right;\n",
       "    }\n",
       "</style>\n",
       "<table border=\"1\" class=\"dataframe\">\n",
       "  <thead>\n",
       "    <tr style=\"text-align: right;\">\n",
       "      <th>landing_page</th>\n",
       "      <th>new_page</th>\n",
       "      <th>old_page</th>\n",
       "    </tr>\n",
       "    <tr>\n",
       "      <th>group</th>\n",
       "      <th></th>\n",
       "      <th></th>\n",
       "    </tr>\n",
       "  </thead>\n",
       "  <tbody>\n",
       "    <tr>\n",
       "      <th>control</th>\n",
       "      <td>0</td>\n",
       "      <td>144319</td>\n",
       "    </tr>\n",
       "    <tr>\n",
       "      <th>treatment</th>\n",
       "      <td>144316</td>\n",
       "      <td>0</td>\n",
       "    </tr>\n",
       "  </tbody>\n",
       "</table>\n",
       "</div>"
      ],
      "text/plain": [
       "landing_page  new_page  old_page\n",
       "group                           \n",
       "control              0    144319\n",
       "treatment       144316         0"
      ]
     },
     "execution_count": 19,
     "metadata": {},
     "output_type": "execute_result"
    }
   ],
   "source": [
    "right_group_page.groupby(['group','landing_page'])['user_id']\\\n",
    "                .agg('count')\\\n",
    "                .reset_index()\\\n",
    "                .pivot(index='group',\n",
    "                       columns='landing_page',\n",
    "                       values='user_id')"
   ]
  },
  {
   "cell_type": "markdown",
   "id": "6a3b3428",
   "metadata": {},
   "source": [
    "It worked"
   ]
  },
  {
   "cell_type": "markdown",
   "id": "0f456b44",
   "metadata": {},
   "source": [
    "### b/ Sampling"
   ]
  },
  {
   "cell_type": "code",
   "execution_count": 20,
   "id": "44a559df",
   "metadata": {},
   "outputs": [],
   "source": [
    "# Sample the same number of observations for control group and treatment group\n",
    "c_group=right_group_page[right_group_page['group']=='control'].sample(n=4726,random_state=1)\n",
    "t_group=right_group_page[right_group_page['group']=='treatment'].sample(n=4726,random_state=1)\n",
    "\n",
    "#Construct the whole dataframe of interest having both groups\n",
    "ab_test= pd.concat((c_group,t_group),axis=0)\n",
    "ab_test.reset_index(drop=True, inplace=True)"
   ]
  },
  {
   "cell_type": "code",
   "execution_count": 33,
   "id": "4270119d",
   "metadata": {},
   "outputs": [
    {
     "data": {
      "text/html": [
       "<div>\n",
       "<style scoped>\n",
       "    .dataframe tbody tr th:only-of-type {\n",
       "        vertical-align: middle;\n",
       "    }\n",
       "\n",
       "    .dataframe tbody tr th {\n",
       "        vertical-align: top;\n",
       "    }\n",
       "\n",
       "    .dataframe thead th {\n",
       "        text-align: right;\n",
       "    }\n",
       "</style>\n",
       "<table border=\"1\" class=\"dataframe\">\n",
       "  <thead>\n",
       "    <tr style=\"text-align: right;\">\n",
       "      <th></th>\n",
       "      <th>user_id</th>\n",
       "      <th>timestamp</th>\n",
       "      <th>group</th>\n",
       "      <th>landing_page</th>\n",
       "      <th>converted</th>\n",
       "    </tr>\n",
       "  </thead>\n",
       "  <tbody>\n",
       "    <tr>\n",
       "      <th>0</th>\n",
       "      <td>674681</td>\n",
       "      <td>2017-01-05 17:12:06.708726</td>\n",
       "      <td>control</td>\n",
       "      <td>old_page</td>\n",
       "      <td>1</td>\n",
       "    </tr>\n",
       "    <tr>\n",
       "      <th>1</th>\n",
       "      <td>711348</td>\n",
       "      <td>2017-01-22 04:29:11.720308</td>\n",
       "      <td>control</td>\n",
       "      <td>old_page</td>\n",
       "      <td>0</td>\n",
       "    </tr>\n",
       "    <tr>\n",
       "      <th>2</th>\n",
       "      <td>666692</td>\n",
       "      <td>2017-01-07 04:15:45.765594</td>\n",
       "      <td>control</td>\n",
       "      <td>old_page</td>\n",
       "      <td>0</td>\n",
       "    </tr>\n",
       "    <tr>\n",
       "      <th>3</th>\n",
       "      <td>922809</td>\n",
       "      <td>2017-01-10 17:51:20.655701</td>\n",
       "      <td>control</td>\n",
       "      <td>old_page</td>\n",
       "      <td>0</td>\n",
       "    </tr>\n",
       "    <tr>\n",
       "      <th>4</th>\n",
       "      <td>889219</td>\n",
       "      <td>2017-01-14 15:27:59.561283</td>\n",
       "      <td>control</td>\n",
       "      <td>old_page</td>\n",
       "      <td>0</td>\n",
       "    </tr>\n",
       "    <tr>\n",
       "      <th>...</th>\n",
       "      <td>...</td>\n",
       "      <td>...</td>\n",
       "      <td>...</td>\n",
       "      <td>...</td>\n",
       "      <td>...</td>\n",
       "    </tr>\n",
       "    <tr>\n",
       "      <th>9447</th>\n",
       "      <td>718541</td>\n",
       "      <td>2017-01-10 02:26:26.642005</td>\n",
       "      <td>treatment</td>\n",
       "      <td>new_page</td>\n",
       "      <td>0</td>\n",
       "    </tr>\n",
       "    <tr>\n",
       "      <th>9448</th>\n",
       "      <td>818076</td>\n",
       "      <td>2017-01-02 23:13:12.622475</td>\n",
       "      <td>treatment</td>\n",
       "      <td>new_page</td>\n",
       "      <td>1</td>\n",
       "    </tr>\n",
       "    <tr>\n",
       "      <th>9449</th>\n",
       "      <td>924396</td>\n",
       "      <td>2017-01-07 03:14:19.319972</td>\n",
       "      <td>treatment</td>\n",
       "      <td>new_page</td>\n",
       "      <td>0</td>\n",
       "    </tr>\n",
       "    <tr>\n",
       "      <th>9450</th>\n",
       "      <td>919330</td>\n",
       "      <td>2017-01-05 07:45:32.042049</td>\n",
       "      <td>treatment</td>\n",
       "      <td>new_page</td>\n",
       "      <td>0</td>\n",
       "    </tr>\n",
       "    <tr>\n",
       "      <th>9451</th>\n",
       "      <td>843157</td>\n",
       "      <td>2017-01-17 12:52:05.102934</td>\n",
       "      <td>treatment</td>\n",
       "      <td>new_page</td>\n",
       "      <td>0</td>\n",
       "    </tr>\n",
       "  </tbody>\n",
       "</table>\n",
       "<p>9452 rows × 5 columns</p>\n",
       "</div>"
      ],
      "text/plain": [
       "      user_id                  timestamp      group landing_page  converted\n",
       "0      674681 2017-01-05 17:12:06.708726    control     old_page          1\n",
       "1      711348 2017-01-22 04:29:11.720308    control     old_page          0\n",
       "2      666692 2017-01-07 04:15:45.765594    control     old_page          0\n",
       "3      922809 2017-01-10 17:51:20.655701    control     old_page          0\n",
       "4      889219 2017-01-14 15:27:59.561283    control     old_page          0\n",
       "...       ...                        ...        ...          ...        ...\n",
       "9447   718541 2017-01-10 02:26:26.642005  treatment     new_page          0\n",
       "9448   818076 2017-01-02 23:13:12.622475  treatment     new_page          1\n",
       "9449   924396 2017-01-07 03:14:19.319972  treatment     new_page          0\n",
       "9450   919330 2017-01-05 07:45:32.042049  treatment     new_page          0\n",
       "9451   843157 2017-01-17 12:52:05.102934  treatment     new_page          0\n",
       "\n",
       "[9452 rows x 5 columns]"
      ]
     },
     "execution_count": 33,
     "metadata": {},
     "output_type": "execute_result"
    }
   ],
   "source": [
    "ab_test"
   ]
  },
  {
   "cell_type": "code",
   "execution_count": 34,
   "id": "3643bb25",
   "metadata": {},
   "outputs": [
    {
     "name": "stdout",
     "output_type": "stream",
     "text": [
      "<class 'pandas.core.frame.DataFrame'>\n",
      "RangeIndex: 9452 entries, 0 to 9451\n",
      "Data columns (total 5 columns):\n",
      " #   Column        Non-Null Count  Dtype         \n",
      "---  ------        --------------  -----         \n",
      " 0   user_id       9452 non-null   int64         \n",
      " 1   timestamp     9452 non-null   datetime64[ns]\n",
      " 2   group         9452 non-null   category      \n",
      " 3   landing_page  9452 non-null   category      \n",
      " 4   converted     9452 non-null   int64         \n",
      "dtypes: category(2), datetime64[ns](1), int64(2)\n",
      "memory usage: 240.4 KB\n"
     ]
    }
   ],
   "source": [
    "ab_test.info()"
   ]
  },
  {
   "cell_type": "code",
   "execution_count": 35,
   "id": "3bbf6ecc",
   "metadata": {},
   "outputs": [
    {
     "data": {
      "text/html": [
       "<div>\n",
       "<style scoped>\n",
       "    .dataframe tbody tr th:only-of-type {\n",
       "        vertical-align: middle;\n",
       "    }\n",
       "\n",
       "    .dataframe tbody tr th {\n",
       "        vertical-align: top;\n",
       "    }\n",
       "\n",
       "    .dataframe thead th {\n",
       "        text-align: right;\n",
       "    }\n",
       "</style>\n",
       "<table border=\"1\" class=\"dataframe\">\n",
       "  <thead>\n",
       "    <tr style=\"text-align: right;\">\n",
       "      <th></th>\n",
       "      <th>group</th>\n",
       "      <th>user_id</th>\n",
       "    </tr>\n",
       "  </thead>\n",
       "  <tbody>\n",
       "    <tr>\n",
       "      <th>0</th>\n",
       "      <td>control</td>\n",
       "      <td>4726</td>\n",
       "    </tr>\n",
       "    <tr>\n",
       "      <th>1</th>\n",
       "      <td>treatment</td>\n",
       "      <td>4726</td>\n",
       "    </tr>\n",
       "  </tbody>\n",
       "</table>\n",
       "</div>"
      ],
      "text/plain": [
       "       group  user_id\n",
       "0    control     4726\n",
       "1  treatment     4726"
      ]
     },
     "execution_count": 35,
     "metadata": {},
     "output_type": "execute_result"
    }
   ],
   "source": [
    "ab_test.groupby('group')['user_id']\\\n",
    "       .agg('count')\\\n",
    "       .reset_index()"
   ]
  },
  {
   "cell_type": "markdown",
   "id": "d63d8e88",
   "metadata": {},
   "source": [
    "Great, it seems that everything functioned properly"
   ]
  },
  {
   "cell_type": "markdown",
   "id": "b3b57834",
   "metadata": {},
   "source": [
    "### c/ Visual data exploratory"
   ]
  },
  {
   "cell_type": "code",
   "execution_count": 24,
   "id": "4901000b",
   "metadata": {},
   "outputs": [],
   "source": [
    "# Lambda function that is used to compute the standard error\n",
    "func= lambda x: x.std()/np.sqrt(required_n)\n",
    "\n",
    "# Create summary table\n",
    "summary= ab_test.groupby('group')['converted']\\\n",
    "                .agg([np.mean,np.std,func])\\\n",
    "                .reset_index()\\\n",
    "                .rename({'<lambda_0>':'s.e'},axis=1)"
   ]
  },
  {
   "cell_type": "code",
   "execution_count": 41,
   "id": "1fd37769",
   "metadata": {},
   "outputs": [
    {
     "data": {
      "text/html": [
       "<div>\n",
       "<style scoped>\n",
       "    .dataframe tbody tr th:only-of-type {\n",
       "        vertical-align: middle;\n",
       "    }\n",
       "\n",
       "    .dataframe tbody tr th {\n",
       "        vertical-align: top;\n",
       "    }\n",
       "\n",
       "    .dataframe thead th {\n",
       "        text-align: right;\n",
       "    }\n",
       "</style>\n",
       "<table border=\"1\" class=\"dataframe\">\n",
       "  <thead>\n",
       "    <tr style=\"text-align: right;\">\n",
       "      <th></th>\n",
       "      <th>group</th>\n",
       "      <th>mean</th>\n",
       "      <th>std</th>\n",
       "      <th>s.e</th>\n",
       "    </tr>\n",
       "  </thead>\n",
       "  <tbody>\n",
       "    <tr>\n",
       "      <th>0</th>\n",
       "      <td>control</td>\n",
       "      <td>0.1210</td>\n",
       "      <td>0.3262</td>\n",
       "      <td>0.0047</td>\n",
       "    </tr>\n",
       "    <tr>\n",
       "      <th>1</th>\n",
       "      <td>treatment</td>\n",
       "      <td>0.1126</td>\n",
       "      <td>0.3161</td>\n",
       "      <td>0.0046</td>\n",
       "    </tr>\n",
       "  </tbody>\n",
       "</table>\n",
       "</div>"
      ],
      "text/plain": [
       "       group   mean    std    s.e\n",
       "0    control 0.1210 0.3262 0.0047\n",
       "1  treatment 0.1126 0.3161 0.0046"
      ]
     },
     "execution_count": 41,
     "metadata": {},
     "output_type": "execute_result"
    }
   ],
   "source": [
    "summary"
   ]
  },
  {
   "cell_type": "code",
   "execution_count": 31,
   "id": "6f6760ab",
   "metadata": {},
   "outputs": [
    {
     "name": "stderr",
     "output_type": "stream",
     "text": [
      "C:\\Users\\ADMIN\\anaconda3\\lib\\site-packages\\seaborn\\axisgrid.py:670: UserWarning: Using the barplot function without specifying `order` is likely to produce an incorrect plot.\n",
      "  warnings.warn(warning)\n"
     ]
    },
    {
     "data": {
      "image/png": "[encoded data removed]",
      "text/plain": [
       "<Figure size 432x432 with 1 Axes>"
      ]
     },
     "metadata": {},
     "output_type": "display_data"
    }
   ],
   "source": [
    "g= sns.FacetGrid(data=summary,height=6)\n",
    "g.map(sns.barplot,'group','mean',palette=sns.color_palette('deep'))\n",
    "g.set(title='Conversion comparison')\n",
    "g.set_axis_labels('Group','Converted proportion')\n",
    "g.set_xticklabels(['Control','Treatment'])\n",
    "ax= g.axes[0][0]\n",
    "for p in ax.patches:\n",
    "    ax.annotate('{:,.2f}'.format(p.get_height()), \n",
    "                xy=(p.get_x()+p.get_width()/2,p.get_height()),\n",
    "                xytext=(0, 6),\n",
    "                xycoords='data',\n",
    "                textcoords='offset points', ha='center', va='bottom', size= 15,\n",
    "                )\n",
    "plt.tight_layout()\n",
    "plt.show()"
   ]
  },
  {
   "cell_type": "markdown",
   "id": "cbba53a4",
   "metadata": {},
   "source": [
    "The conversion rates for two groups are 1% difference from each other where the conversion rate in the treatment group is lower than that of the control group.<br>\n",
    "Is this difference just due to random chance?"
   ]
  },
  {
   "cell_type": "markdown",
   "id": "4e5af92c",
   "metadata": {},
   "source": [
    "### d/ Test the hypothesis"
   ]
  },
  {
   "cell_type": "markdown",
   "id": "001242f8",
   "metadata": {},
   "source": [
    "Given the large sample size in each group, we can use the normal approximation for calculating our p-value (i.e. z-test)."
   ]
  },
  {
   "cell_type": "code",
   "execution_count": 33,
   "id": "6e5ba8e5",
   "metadata": {},
   "outputs": [],
   "source": [
    "control_counts= ab_test[ab_test['group']=='control']['converted']\n",
    "treatment_counts= ab_test[ab_test['group']=='treatment']['converted']"
   ]
  },
  {
   "cell_type": "code",
   "execution_count": 35,
   "id": "2d5f5663",
   "metadata": {},
   "outputs": [
    {
     "name": "stdout",
     "output_type": "stream",
     "text": [
      "The z value computed on the basis of the observed samples is -1.28\n",
      "The p value computed on the basis of the observed samples is 0.90\n",
      "\n",
      "95% confidence interval for the treatment group is [0.10356, 0.12158]\n",
      "\n",
      "95% confidence interval for the control group is [0.11173, 0.13033]\n"
     ]
    }
   ],
   "source": [
    "n_con= len(control_counts)\n",
    "n_treat = len(treatment_counts)\n",
    "\n",
    "successes=[treatment_counts.sum(),control_counts.sum()]\n",
    "n_obs=[n_treat,n_con]\n",
    "\n",
    "#z_score, p_value= proportions_ztest(successes,nobs=n_obs, alternative='smaller') # p_value= 0.10 = p_value of two sided case divided by 2\n",
    "z_score, p_value= proportions_ztest(successes,nobs=n_obs, alternative='larger') # p_value= 0.9\n",
    "#z_score, p_value= proportions_ztest(successes,nobs=n_obs, alternative='two-sided')\n",
    "\n",
    "print('The z value computed on the basis of the observed samples is {:.2f}'.format(z_score))\n",
    "print('The p value computed on the basis of the observed samples is {:.2f}'.format(p_value))\n",
    "\n",
    "( lower_treat, lower_con), ( upper_treat, upper_con) = proportion_confint(successes, nobs=n_obs, alpha=0.05)\n",
    "print()\n",
    "print('95% confidence interval for the treatment group is [{:.5f}, {:.5f}]'.format(lower_treat,upper_treat))\n",
    "print()\n",
    "print('95% confidence interval for the control group is [{:.5f}, {:.5f}]'.format(lower_con,upper_con))"
   ]
  },
  {
   "cell_type": "markdown",
   "id": "9f1e30c2",
   "metadata": {},
   "source": [
    "### e/ Result interpretations:\n",
    "Given the p value =0.9 which is way above alpha =0.05, we failed to reject the null hypothesis which means that the new design page did not perform better in terms of leading higher conversion rate "
   ]
  },
  {
   "cell_type": "markdown",
   "id": "2cd25739",
   "metadata": {},
   "source": [
    "## 4. Recommendations"
   ]
  },
  {
   "cell_type": "markdown",
   "id": "4e3630ed",
   "metadata": {},
   "source": [
    "Decision making: It is not tempting to replace the current page with the newly designed one."
   ]
  }
 ],
 "metadata": {
  "kernelspec": {
   "display_name": "Python 3 (ipykernel)",
   "language": "python",
   "name": "python3"
  },
  "language_info": {
   "codemirror_mode": {
    "name": "ipython",
    "version": 3
   },
   "file_extension": ".py",
   "mimetype": "text/x-python",
   "name": "python",
   "nbconvert_exporter": "python",
   "pygments_lexer": "ipython3",
   "version": "3.9.7"
  }
 },
 "nbformat": 4,
 "nbformat_minor": 5
}
